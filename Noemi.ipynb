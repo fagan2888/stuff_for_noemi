{
 "cells": [
  {
   "cell_type": "code",
   "execution_count": 103,
   "metadata": {
    "collapsed": false
   },
   "outputs": [],
   "source": [
    "%display latex"
   ]
  },
  {
   "cell_type": "code",
   "execution_count": 151,
   "metadata": {
    "collapsed": false
   },
   "outputs": [
    {
     "data": {
      "text/html": [
       "<html><script type=\"math/tex; mode=display\">\\newcommand{\\Bold}[1]{\\mathbf{#1}}\\left[p = \\frac{c {\\left(\\mu + 1\\right)} D\\left(p\\right) - \\mu \\pi_{M} + \\pi_{M}}{{\\left(\\mu + 1\\right)} D\\left(p\\right)}\\right]</script></html>"
      ],
      "text/plain": [
       "[p == (c*(mu + 1)*D(p) - mu*pi_M + pi_M)/((mu + 1)*D(p))]"
      ]
     },
     "execution_count": 151,
     "metadata": {},
     "output_type": "execute_result"
    }
   ],
   "source": [
    "p, alpha, c, piM, mu = var('p, alpha, c, pi_M, mu')\n",
    "D = function('D')\n",
    "pi = function('pi')\n",
    "\n",
    "\n",
    "# D = 1 - p\n",
    "pi = (p - c) * D(p)\n",
    "\n",
    "F = 1 / ((p - alpha*c) * D(p) ) * (pi + (1 - mu)/ (2*mu) * ( pi - piM)  ) \n",
    "\n",
    "#print(pretty_print(solve([F == 0], p)))\n",
    "solve([F == 0], p)"
   ]
  },
  {
   "cell_type": "code",
   "execution_count": 153,
   "metadata": {
    "collapsed": false
   },
   "outputs": [
    {
     "data": {
      "text/html": [
       "<html><script type=\"math/tex; mode=display\">\\newcommand{\\Bold}[1]{\\mathbf{#1}}\\left[p = \\frac{{\\left(c + 1\\right)} \\mu + c - \\sqrt{{\\left(c^{2} - 2 \\, c + 1\\right)} \\mu^{2} + c^{2} + 2 \\, {\\left(c^{2} - 2 \\, c + 1\\right)} \\mu + 4 \\, {\\left(\\mu^{2} - 1\\right)} \\pi_{M} - 2 \\, c + 1} + 1}{2 \\, {\\left(\\mu + 1\\right)}}, p = \\frac{{\\left(c + 1\\right)} \\mu + c + \\sqrt{{\\left(c^{2} - 2 \\, c + 1\\right)} \\mu^{2} + c^{2} + 2 \\, {\\left(c^{2} - 2 \\, c + 1\\right)} \\mu + 4 \\, {\\left(\\mu^{2} - 1\\right)} \\pi_{M} - 2 \\, c + 1} + 1}{2 \\, {\\left(\\mu + 1\\right)}}\\right]</script></html>"
      ],
      "text/plain": [
       "[p == 1/2*((c + 1)*mu + c - sqrt((c^2 - 2*c + 1)*mu^2 + c^2 + 2*(c^2 - 2*c + 1)*mu + 4*(mu^2 - 1)*pi_M - 2*c + 1) + 1)/(mu + 1), p == 1/2*((c + 1)*mu + c + sqrt((c^2 - 2*c + 1)*mu^2 + c^2 + 2*(c^2 - 2*c + 1)*mu + 4*(mu^2 - 1)*pi_M - 2*c + 1) + 1)/(mu + 1)]"
      ]
     },
     "execution_count": 153,
     "metadata": {},
     "output_type": "execute_result"
    }
   ],
   "source": [
    "p, alpha, c, piM, mu = var('p, alpha, c, pi_M, mu')\n",
    "D = function('D')\n",
    "pi = function('pi')\n",
    "\n",
    "\n",
    "D = 1 - p\n",
    "pi = (p - c) * D(p)\n",
    "\n",
    "F = 1 / ((p - alpha*c) * D(p) ) * (pi + (1 - mu)/ (2*mu) * ( pi - piM)  ) \n",
    "\n",
    "solve([F == 0], p)\n"
   ]
  },
  {
   "cell_type": "code",
   "execution_count": 157,
   "metadata": {
    "collapsed": false
   },
   "outputs": [
    {
     "data": {
      "text/html": [
       "<html><script type=\"math/tex; mode=display\">\\newcommand{\\Bold}[1]{\\mathbf{#1}}\\left[p = \\frac{{\\left(\\mu \\mathit{piM} - \\mathit{piM}\\right)} \\alpha c \\frac{\\partial}{\\partial p}D\\left(p\\right) - {\\left(\\alpha c {\\left(\\mu + 1\\right)} - c {\\left(\\mu + 1\\right)}\\right)} D\\left(p\\right)^{2} - {\\left(\\mu \\mathit{piM} - \\mathit{piM}\\right)} D\\left(p\\right)}{{\\left(\\mu \\mathit{piM} - \\mathit{piM}\\right)} \\frac{\\partial}{\\partial p}D\\left(p\\right)}\\right]</script></html>"
      ],
      "text/plain": [
       "[p == ((mu*piM - piM)*alpha*c*diff(D(p), p) - (alpha*c*(mu + 1) - c*(mu + 1))*D(p)^2 - (mu*piM - piM)*D(p))/((mu*piM - piM)*diff(D(p), p))]"
      ]
     },
     "execution_count": 157,
     "metadata": {},
     "output_type": "execute_result"
    }
   ],
   "source": [
    "p, alpha, c, piM, mu = var('p, alpha, c, piM, mu')\n",
    "D = function('D')\n",
    "pi = function('pi')\n",
    "\n",
    "\n",
    "# D = 1 - p\n",
    "pi = (p - c) * D(p)\n",
    "\n",
    "F = 1 / ((p - alpha*c) * D(p) ) * (pi + (1 - mu)/ (2*mu) * ( pi - piM)  ) \n",
    "\n",
    "#solve([F == 0], p)\n",
    "\n",
    "solve([diff(F, p) == 0], p)"
   ]
  },
  {
   "cell_type": "code",
   "execution_count": 156,
   "metadata": {
    "collapsed": false
   },
   "outputs": [
    {
     "data": {
      "text/html": [
       "<html><script type=\"math/tex; mode=display\">\\newcommand{\\Bold}[1]{\\mathbf{#1}}\\left[p = \\frac{{\\left(\\alpha - 1\\right)} c \\mu + {\\left(\\alpha - 1\\right)} c + {\\left(\\mu - 1\\right)} \\mathit{piM} - \\sqrt{{\\left(\\mu^{2} - 2 \\, \\mu + 1\\right)} \\mathit{piM}^{2} + {\\left({\\left(\\alpha^{2} - \\alpha\\right)} c^{2} - {\\left({\\left(\\alpha^{2} - \\alpha\\right)} c^{2} - {\\left(\\alpha - 1\\right)} c\\right)} \\mu^{2} - {\\left(\\alpha - 1\\right)} c\\right)} \\mathit{piM}}}{{\\left(\\alpha - 1\\right)} c \\mu + {\\left(\\alpha - 1\\right)} c}, p = \\frac{{\\left(\\alpha - 1\\right)} c \\mu + {\\left(\\alpha - 1\\right)} c + {\\left(\\mu - 1\\right)} \\mathit{piM} + \\sqrt{{\\left(\\mu^{2} - 2 \\, \\mu + 1\\right)} \\mathit{piM}^{2} + {\\left({\\left(\\alpha^{2} - \\alpha\\right)} c^{2} - {\\left({\\left(\\alpha^{2} - \\alpha\\right)} c^{2} - {\\left(\\alpha - 1\\right)} c\\right)} \\mu^{2} - {\\left(\\alpha - 1\\right)} c\\right)} \\mathit{piM}}}{{\\left(\\alpha - 1\\right)} c \\mu + {\\left(\\alpha - 1\\right)} c}\\right]</script></html>"
      ],
      "text/plain": [
       "[p == ((alpha - 1)*c*mu + (alpha - 1)*c + (mu - 1)*piM - sqrt((mu^2 - 2*mu + 1)*piM^2 + ((alpha^2 - alpha)*c^2 - ((alpha^2 - alpha)*c^2 - (alpha - 1)*c)*mu^2 - (alpha - 1)*c)*piM))/((alpha - 1)*c*mu + (alpha - 1)*c), p == ((alpha - 1)*c*mu + (alpha - 1)*c + (mu - 1)*piM + sqrt((mu^2 - 2*mu + 1)*piM^2 + ((alpha^2 - alpha)*c^2 - ((alpha^2 - alpha)*c^2 - (alpha - 1)*c)*mu^2 - (alpha - 1)*c)*piM))/((alpha - 1)*c*mu + (alpha - 1)*c)]"
      ]
     },
     "execution_count": 156,
     "metadata": {},
     "output_type": "execute_result"
    }
   ],
   "source": [
    "p, alpha, c, piM, mu = var('p, alpha, c, piM, mu')\n",
    "D = function('D')\n",
    "pi = function('pi')\n",
    "\n",
    "\n",
    "D = 1 - p\n",
    "pi = (p - c) * D(p)\n",
    "\n",
    "F = 1 / ((p - alpha*c) * D(p) ) * (pi + (1 - mu)/ (2*mu) * ( pi - piM)  ) \n",
    "\n",
    "#solve([F == 0], p)\n",
    "\n",
    "solve([diff(F, p) == 0], p)"
   ]
  }
 ],
 "metadata": {
  "kernelspec": {
   "display_name": "SageMath 7.6",
   "language": "",
   "name": "sagemath"
  },
  "language_info": {
   "codemirror_mode": {
    "name": "ipython",
    "version": 2
   },
   "file_extension": ".py",
   "mimetype": "text/x-python",
   "name": "python",
   "nbconvert_exporter": "python",
   "pygments_lexer": "ipython2",
   "version": "2.7.13"
  }
 },
 "nbformat": 4,
 "nbformat_minor": 2
}
